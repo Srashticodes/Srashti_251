{
  "nbformat": 4,
  "nbformat_minor": 0,
  "metadata": {
    "colab": {
      "provenance": []
    },
    "kernelspec": {
      "name": "python3",
      "display_name": "Python 3"
    },
    "language_info": {
      "name": "python"
    }
  },
  "cells": [
    {
      "cell_type": "code",
      "execution_count": 10,
      "metadata": {
        "colab": {
          "base_uri": "https://localhost:8080/",
          "height": 858
        },
        "id": "pM066UbiCPJ-",
        "outputId": "971456a6-df1e-428a-f5b6-fc0fee56a908"
      },
      "outputs": [
        {
          "output_type": "stream",
          "name": "stdout",
          "text": [
            "\n",
            "📊 CONFUSION MATRIX\n",
            "╒══════════╤═══════════════╤═══════════════╕\n",
            "│          │   Predicted 0 │   Predicted 1 │\n",
            "╞══════════╪═══════════════╪═══════════════╡\n",
            "│ Actual 0 │         45004 │           166 │\n",
            "├──────────┼───────────────┼───────────────┤\n",
            "│ Actual 1 │          5614 │           286 │\n",
            "╘══════════╧═══════════════╧═══════════════╛\n",
            "\n",
            "📋 CLASSIFICATION REPORT\n",
            "╒══════════════╤═════════════╤══════════╤════════════╤═══════════╕\n",
            "│              │   precision │   recall │   f1-score │   support │\n",
            "╞══════════════╪═════════════╪══════════╪════════════╪═══════════╡\n",
            "│ 0            │        0.89 │     1    │       0.94 │  45170    │\n",
            "├──────────────┼─────────────┼──────────┼────────────┼───────────┤\n",
            "│ 1            │        0.63 │     0.05 │       0.09 │   5900    │\n",
            "├──────────────┼─────────────┼──────────┼────────────┼───────────┤\n",
            "│ accuracy     │        0.89 │     0.89 │       0.89 │      0.89 │\n",
            "├──────────────┼─────────────┼──────────┼────────────┼───────────┤\n",
            "│ macro avg    │        0.76 │     0.52 │       0.51 │  51070    │\n",
            "├──────────────┼─────────────┼──────────┼────────────┼───────────┤\n",
            "│ weighted avg │        0.86 │     0.89 │       0.84 │  51070    │\n",
            "╘══════════════╧═════════════╧══════════╧════════════╧═══════════╛\n",
            "\n",
            "✅ ACCURACY SCORE: 88.68%\n"
          ]
        },
        {
          "output_type": "display_data",
          "data": {
            "text/plain": [
              "<Figure size 600x400 with 1 Axes>"
            ],
            "image/png": "[encoded data removed]"
          },
          "metadata": {}
        }
      ],
      "source": [
        "import pandas as pd\n",
        "import numpy as np\n",
        "from sklearn.model_selection import train_test_split\n",
        "from sklearn.preprocessing import StandardScaler, LabelEncoder\n",
        "from sklearn.ensemble import RandomForestClassifier\n",
        "from sklearn.metrics import classification_report, confusion_matrix, accuracy_score\n",
        "from tabulate import tabulate\n",
        "from termcolor import colored\n",
        "import seaborn as sns\n",
        "import matplotlib.pyplot as plt\n",
        "\n",
        "# Load dataset\n",
        "df = pd.read_csv(\"/content/1. Predict Loan Default.csv\")\n",
        "\n",
        "# Drop ID column\n",
        "df.drop(columns=['LoanID'], inplace=True)\n",
        "\n",
        "# Encode categorical columns\n",
        "label_encoders = {}\n",
        "for col in df.select_dtypes(include='object').columns:\n",
        "    le = LabelEncoder()\n",
        "    df[col] = le.fit_transform(df[col])\n",
        "    label_encoders[col] = le\n",
        "\n",
        "# Features and target\n",
        "X = df.drop('Default', axis=1)\n",
        "y = df['Default']\n",
        "\n",
        "# Train/test split\n",
        "X_train, X_test, y_train, y_test = train_test_split(X, y, test_size=0.2, random_state=42)\n",
        "\n",
        "# Scaling\n",
        "scaler = StandardScaler()\n",
        "X_train = scaler.fit_transform(X_train)\n",
        "X_test = scaler.transform(X_test)\n",
        "\n",
        "# Model\n",
        "model = RandomForestClassifier(random_state=42)\n",
        "model.fit(X_train, y_train)\n",
        "y_pred = model.predict(X_test)\n",
        "\n",
        "# Confusion Matrix\n",
        "conf_matrix = confusion_matrix(y_test, y_pred)\n",
        "conf_df = pd.DataFrame(conf_matrix,\n",
        "                       index=[f'Actual {i}' for i in model.classes_],\n",
        "                       columns=[f'Predicted {i}' for i in model.classes_])\n",
        "\n",
        "# Classification Report\n",
        "report = classification_report(y_test, y_pred, output_dict=True)\n",
        "report_df = pd.DataFrame(report).transpose().round(2)\n",
        "\n",
        "# Accuracy\n",
        "accuracy = accuracy_score(y_test, y_pred)\n",
        "\n",
        "# 🎨 Color-coded titles\n",
        "print(\"\\n\" + colored(\"📊 CONFUSION MATRIX\", \"cyan\", attrs=[\"bold\"]))\n",
        "print(tabulate(conf_df, headers=\"keys\", tablefmt=\"fancy_grid\"))\n",
        "\n",
        "print(\"\\n\" + colored(\"📋 CLASSIFICATION REPORT\", \"magenta\", attrs=[\"bold\"]))\n",
        "print(tabulate(report_df, headers=\"keys\", tablefmt=\"fancy_grid\", showindex=True))\n",
        "\n",
        "print(\"\\n\" + colored(\"✅ ACCURACY SCORE:\", \"green\", attrs=[\"bold\"]) + f\" {colored(f'{accuracy:.2%}', 'yellow')}\")\n",
        "\n",
        "# Optional: Heatmap (Jupyter / GUI required)\n",
        "try:\n",
        "    plt.figure(figsize=(6, 4))\n",
        "    sns.heatmap(conf_df, annot=True, fmt=\"d\", cmap=\"Blues\", cbar=False)\n",
        "    plt.title(\"Confusion Matrix Heatmap\")\n",
        "    plt.ylabel(\"Actual\")\n",
        "    plt.xlabel(\"Predicted\")\n",
        "    plt.tight_layout()\n",
        "    plt.show()\n",
        "except:\n",
        "    pass\n"
      ]
    }
  ]
}